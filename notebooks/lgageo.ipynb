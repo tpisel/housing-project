{
 "cells": [
  {
   "cell_type": "code",
   "execution_count": 32,
   "id": "a0000796",
   "metadata": {},
   "outputs": [
    {
     "name": "stdout",
     "output_type": "stream",
     "text": [
      "Failed to download the JSON data.\n"
     ]
    }
   ],
   "source": [
    "import requests\n",
    "import pandas as pd\n",
    "\n",
    "# Define the JSON URL\n",
    "json_url = \"https://data.gov.au/geoserver/vic-local-government-areas-psma-administrative-boundaries/wfs?request=GetFeature&typeName=ckan_bdf92691_c6fe_42b9_a0e2_a4cd716fa811&outputFormat=json\"\n",
    "\n",
    "# Download the JSON data\n",
    "response = requests.get(json_url)\n",
    "\n",
    "if response.status_code == 200:\n",
    "    # Load the JSON data into a DataFrame\n",
    "    json_data = pd.DataFrame(response.json())\n",
    "\n",
    "    # Add an additional field/column to the DataFrame\n",
    "    \n",
    "#     json_data[\"new_field\"] = \"example_value\"\n",
    "\n",
    "    # Save the DataFrame as a CSV file\n",
    "    csv_filename = \"LGAgeo.csv\"\n",
    "    json_data.to_csv(csv_filename, index=False)\n",
    "    print(f\"JSON data has been processed and saved as {csv_filename}\")\n",
    "else:\n",
    "    print(\"Failed to download the JSON data.\")"
   ]
  },
  {
   "cell_type": "code",
   "execution_count": null,
   "id": "c6a7071d",
   "metadata": {},
   "outputs": [],
   "source": []
  },
  {
   "cell_type": "code",
   "execution_count": null,
   "id": "ee9a0bcb",
   "metadata": {},
   "outputs": [],
   "source": []
  }
 ],
 "metadata": {
  "kernelspec": {
   "display_name": "Python 3 (ipykernel)",
   "language": "python",
   "name": "python3"
  },
  "language_info": {
   "codemirror_mode": {
    "name": "ipython",
    "version": 3
   },
   "file_extension": ".py",
   "mimetype": "text/x-python",
   "name": "python",
   "nbconvert_exporter": "python",
   "pygments_lexer": "ipython3",
   "version": "3.10.12"
  }
 },
 "nbformat": 4,
 "nbformat_minor": 5
}
