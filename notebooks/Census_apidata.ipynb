{
 "cells": [
  {
   "cell_type": "markdown",
   "metadata": {},
   "source": [
    "## Melbourne LGA census information"
   ]
  },
  {
   "cell_type": "code",
   "execution_count": 19,
   "metadata": {},
   "outputs": [],
   "source": [
    "import sys\n",
    "sys.path.append('../src')\n",
    "from config import endpoints\n",
    "\n",
    "import requests \n",
    "\n",
    "from sqlalchemy import create_engine, Table, MetaData, text, func\n",
    "from sqlalchemy.orm import Session\n",
    "\n",
    "import pandas as pd\n",
    "import numpy as np\n",
    "\n",
    "from flask import Flask, jsonify\n",
    "\n"
   ]
  },
  {
   "cell_type": "code",
   "execution_count": 20,
   "metadata": {},
   "outputs": [],
   "source": [
    "engine = create_engine(f\"postgresql://postgres:@localhost/melbournehousingdb\")\n",
    "metadata = MetaData()\n",
    "metadata.bind = engine"
   ]
  },
  {
   "cell_type": "code",
   "execution_count": 21,
   "metadata": {},
   "outputs": [],
   "source": [
    "def query_api(census,page=1):\n",
    "\n",
    "    url = f\"http://127.0.0.1:5000/api/dwellings\"\n",
    "    response = requests.get(url)\n",
    "    \n",
    "    if response.status_code == 200:    \n",
    "        df = pd.json_normalize(response.json())\n",
    "        \n",
    "        df.rename(columns=trim_str, inplace=True)\n",
    "        return df\n",
    "    elif response.status_code == 401:\n",
    "        sys.exit('exiting.')\n",
    "    else:\n",
    "        print(f\"Failed to retrieve data for page {page} of {lga}. HTTP Status code: {response.status_code}\")"
   ]
  },
  {
   "cell_type": "code",
   "execution_count": 23,
   "metadata": {},
   "outputs": [
    {
     "ename": "TypeError",
     "evalue": "list indices must be integers or slices, not str",
     "output_type": "error",
     "traceback": [
      "\u001b[1;31m---------------------------------------------------------------------------\u001b[0m",
      "\u001b[1;31mTypeError\u001b[0m                                 Traceback (most recent call last)",
      "Cell \u001b[1;32mIn[23], line 8\u001b[0m\n\u001b[0;32m      6\u001b[0m \u001b[38;5;66;03m# set up loop to retreive information\u001b[39;00m\n\u001b[0;32m      7\u001b[0m \u001b[38;5;28;01mfor\u001b[39;00m lga \u001b[38;5;129;01min\u001b[39;00m dwellings:\n\u001b[1;32m----> 8\u001b[0m     lgacode \u001b[38;5;241m=\u001b[39m \u001b[43mresponse\u001b[49m\u001b[43m[\u001b[49m\u001b[38;5;124;43m\"\u001b[39;49m\u001b[38;5;124;43mlga_code_2021\u001b[39;49m\u001b[38;5;124;43m\"\u001b[39;49m\u001b[43m]\u001b[49m,\n\u001b[0;32m      9\u001b[0m     flatap12 \u001b[38;5;241m=\u001b[39m response[\u001b[38;5;124m\"\u001b[39m\u001b[38;5;124mopds_f_ap_i_1or2_sty_blk_ds\u001b[39m\u001b[38;5;124m\"\u001b[39m],\n\u001b[0;32m     10\u001b[0m     flatap3 \u001b[38;5;241m=\u001b[39m response[\u001b[38;5;124m\"\u001b[39m\u001b[38;5;124mopds_f_ap_i_3_sty_blk_dwgs\u001b[39m\u001b[38;5;124m\"\u001b[39m],\n",
      "\u001b[1;31mTypeError\u001b[0m: list indices must be integers or slices, not str"
     ]
    }
   ],
   "source": [
    "# Empty list for data \n",
    "url = f\"http://127.0.0.1:5000/api/dwellings\"\n",
    "\n",
    "response = requests.get(url).json()\n",
    "\n",
    "# set up loop to retreive information\n",
    "for lga in dwellings:\n",
    "    lgacode = response[\"lga_code_2021\"],\n",
    "    flatap12 = response[\"opds_f_ap_i_1or2_sty_blk_ds\"],\n",
    "    flatap3 = response[\"opds_f_ap_i_3_sty_blk_dwgs\"],\n",
    "    flatap48 = response[\"opds_f_ap_i_4to8_sty_blk_ds\"],\n",
    "    flatap9 = response[\"opds_f_ap_i_9_m_sty_blk_ds\"],\n",
    "    sngl1str = response[\"opds_sd_r_t_h_th_1_sty_dwgs\"],\n",
    "    sngl2str = response[\"opds_sd_r_t_h_th_2_m_sty_dwgs\"],\n",
    "    sephouse = response[\"opds_separate_house_dwellings\"],\n",
    "    semi12 = response[\"OPDs_SD_r_t_h_th_1_sty_Dwgs\"],\n",
    "    semi2more = response[\"OPDs_SD_r_t_h_th_2_m_sty_Dwgs\"],\n",
    "    unocc = response[\"unoccupied_pds_dwgs\"],\n",
    "    tottot = response[\"total_total\"],\n",
    "    apatt = response[\"opds_flt_apt_att_house_ds\"],\n",
    "    flatattot = response[\"opds_flt_apart_tot_dwgs\"],\n",
    "    \n",
    "    response.append({\"LGA code\": lgacode,\n",
    "                        \"Flat or Apartment in 1 or 2 level\": flatap12,\n",
    "                        \"Flat or Apartment in 3 level\":flatap3,\n",
    "                       \"Flat or Apartment in 4-8 level\": flatap48,\n",
    "                        \"Flat or Apartment in 9+ level\":flatap9,\n",
    "                        \"Single 1 storey\":sngl1str,\n",
    "                        \"Single 2 storey\":sngl2str,\n",
    "                        \"Separate House\":sephouse,\n",
    "                       \"Semi detached one or two storey\": semi12,\n",
    "                       \"Semi detached two or more storey\": semi2more,\n",
    "                       \"Unnoccupied total\": unocc,\n",
    "                       \"Total Total\": tottot,\n",
    "                       \"Attached Apartments\": apatt,\n",
    "                       \"Attached Apartments total\": flatattot})\n",
    "    "
   ]
  },
  {
   "cell_type": "code",
   "execution_count": 24,
   "metadata": {},
   "outputs": [],
   "source": [
    "dwellings_df = pd.DataFrame(response)"
   ]
  },
  {
   "cell_type": "code",
   "execution_count": 25,
   "metadata": {},
   "outputs": [
    {
     "data": {
      "text/plain": [
       "lga_code_2021                    82\n",
       "opds_f_ap_i_1or2_sty_blk_ds      82\n",
       "opds_f_ap_i_3_sty_blk_dwgs       82\n",
       "opds_f_ap_i_4to8_sty_blk_ds      82\n",
       "opds_f_ap_i_9_m_sty_blk_ds       82\n",
       "opds_flt_apart_tot_dwgs          82\n",
       "opds_flt_apt_att_house_ds        82\n",
       "opds_other_dwelling_tot_dwgs     82\n",
       "opds_sd_r_t_h_th_1_sty_dwgs      82\n",
       "opds_sd_r_t_h_th_2_m_sty_dwgs    82\n",
       "opds_sd_r_t_h_th_tot_dwgs        82\n",
       "opds_separate_house_dwellings    82\n",
       "opds_tot_opds_dwellings          82\n",
       "total_pds_dwellings              82\n",
       "total_total                      82\n",
       "unoccupied_pds_dwgs              82\n",
       "dtype: int64"
      ]
     },
     "execution_count": 25,
     "metadata": {},
     "output_type": "execute_result"
    }
   ],
   "source": [
    "dwellings_df.count()"
   ]
  },
  {
   "cell_type": "code",
   "execution_count": 26,
   "metadata": {},
   "outputs": [
    {
     "data": {
      "text/plain": [
       "lga_code_2021                    object\n",
       "opds_f_ap_i_1or2_sty_blk_ds       int64\n",
       "opds_f_ap_i_3_sty_blk_dwgs        int64\n",
       "opds_f_ap_i_4to8_sty_blk_ds       int64\n",
       "opds_f_ap_i_9_m_sty_blk_ds        int64\n",
       "opds_flt_apart_tot_dwgs           int64\n",
       "opds_flt_apt_att_house_ds         int64\n",
       "opds_other_dwelling_tot_dwgs      int64\n",
       "opds_sd_r_t_h_th_1_sty_dwgs       int64\n",
       "opds_sd_r_t_h_th_2_m_sty_dwgs     int64\n",
       "opds_sd_r_t_h_th_tot_dwgs         int64\n",
       "opds_separate_house_dwellings     int64\n",
       "opds_tot_opds_dwellings           int64\n",
       "total_pds_dwellings               int64\n",
       "total_total                       int64\n",
       "unoccupied_pds_dwgs               int64\n",
       "dtype: object"
      ]
     },
     "execution_count": 26,
     "metadata": {},
     "output_type": "execute_result"
    }
   ],
   "source": [
    "dwellings_df.dtypes"
   ]
  },
  {
   "cell_type": "code",
   "execution_count": null,
   "metadata": {},
   "outputs": [],
   "source": []
  }
 ],
 "metadata": {
  "kernelspec": {
   "display_name": "Python 3 (ipykernel)",
   "language": "python",
   "name": "python3"
  },
  "language_info": {
   "codemirror_mode": {
    "name": "ipython",
    "version": 3
   },
   "file_extension": ".py",
   "mimetype": "text/x-python",
   "name": "python",
   "nbconvert_exporter": "python",
   "pygments_lexer": "ipython3",
   "version": "3.10.12"
  }
 },
 "nbformat": 4,
 "nbformat_minor": 4
}
